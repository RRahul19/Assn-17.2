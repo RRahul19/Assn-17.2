{
 "cells": [
  {
   "cell_type": "code",
   "execution_count": 8,
   "metadata": {},
   "outputs": [
    {
     "name": "stdout",
     "output_type": "stream",
     "text": [
      "The probability of getting 'D' exactly 5 times is = 0.030\n"
     ]
    }
   ],
   "source": [
    "'''Problem Statement:\n",
    "A die marked A to E is rolled 50 times. Find the probability of getting a “D” exactly 5\n",
    "times.'''\n",
    "\n",
    "from math import factorial as ft\n",
    "\n",
    "#probability distribution function\n",
    "\n",
    "#p(x) = N!/(x!*(N-x)!)*p^x*(1-p)^(N-x)\n",
    "\n",
    "#No. of trials\n",
    "n = 50\n",
    "\n",
    "#probability of getting 'D' exactly 5 times \n",
    "x = 5\n",
    "\n",
    "#sample space\n",
    "ps = 1/5\n",
    "\n",
    "#probability of not getting 'D'\n",
    "pf = 4/5\n",
    "\n",
    "px = ft(n) / (ft(x) * ft(n-x)) *pow(ps,x)*pow(pf,n-x)\n",
    "\n",
    "print(\"The probability of getting 'D' exactly 5 times is =\", format(px, '.3f'))\n",
    "\n"
   ]
  }
 ],
 "metadata": {
  "kernelspec": {
   "display_name": "Python 3",
   "language": "python",
   "name": "python3"
  },
  "language_info": {
   "codemirror_mode": {
    "name": "ipython",
    "version": 3
   },
   "file_extension": ".py",
   "mimetype": "text/x-python",
   "name": "python",
   "nbconvert_exporter": "python",
   "pygments_lexer": "ipython3",
   "version": "3.6.4"
  }
 },
 "nbformat": 4,
 "nbformat_minor": 2
}
